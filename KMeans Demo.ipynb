{
 "cells": [
  {
   "cell_type": "code",
   "execution_count": 1,
   "id": "increased-magazine",
   "metadata": {},
   "outputs": [
    {
     "data": {
      "text/plain": [
       "<matplotlib.collections.PathCollection at 0x211f7f41a58>"
      ]
     },
     "execution_count": 1,
     "metadata": {},
     "output_type": "execute_result"
    },
    {
     "data": {
      "image/png": "[encoded data removed]",
      "text/plain": [
       "<Figure size 432x288 with 1 Axes>"
      ]
     },
     "metadata": {
      "needs_background": "light"
     },
     "output_type": "display_data"
    }
   ],
   "source": [
    "# Solution to KMeans\n",
    "from copy import deepcopy\n",
    "import numpy as np # linear algebra\n",
    "from matplotlib import pyplot as plt\n",
    "\n",
    "%matplotlib inline\n",
    "\n",
    "# P1=(75,102), P2=(201,16), P3=(68, 80), P4=(188,36), P5=(165,55) and P6=(100,42)\n",
    "\n",
    "centers = np.array([[201,16],[68, 80]]) #P2 and P3\n",
    "\n",
    "# Generate random data and center it to the three centers\n",
    "data = np.array([[75,102],[201,16],[68,80],[188,36],[165,55],[100,42]]) \n",
    "\n",
    "plt.scatter(data[:,0], data[:,1], s=7)\n",
    "\n",
    "# Number of clusters\n",
    "k = 2\n",
    "# Number of training data\n",
    "n = data.shape[0]\n",
    "# Number of features in the data\n",
    "c = data.shape[1]\n",
    "\n",
    "# Plot the data and the centers generated as random\n",
    "plt.scatter(data[:,0], data[:,1], c='r', s=70)\n",
    "plt.scatter(centers[:,0], centers[:,1], marker='*', c='b', s=150)"
   ]
  },
  {
   "cell_type": "code",
   "execution_count": 2,
   "id": "short-phase",
   "metadata": {},
   "outputs": [
    {
     "name": "stdout",
     "output_type": "stream",
     "text": [
      "[[184  35]\n",
      " [ 68  80]]\n",
      "[[184  35]\n",
      " [ 81  74]]\n",
      "[[184  35]\n",
      " [ 81  74]]\n",
      "[[184  35]\n",
      " [ 81  74]]\n",
      "\n",
      "Final Centroids: \n",
      " [[184  35]\n",
      " [ 81  74]]\n"
     ]
    },
    {
     "data": {
      "text/plain": [
       "<matplotlib.collections.PathCollection at 0x211f8051438>"
      ]
     },
     "execution_count": 2,
     "metadata": {},
     "output_type": "execute_result"
    },
    {
     "data": {
      "image/png": "[encoded data removed]",
      "text/plain": [
       "<Figure size 432x288 with 1 Axes>"
      ]
     },
     "metadata": {
      "needs_background": "light"
     },
     "output_type": "display_data"
    }
   ],
   "source": [
    "centers_old = np.zeros(centers.shape) # to store old centers\n",
    "centers_new = deepcopy(centers) # Store new centers\n",
    "\n",
    "data.shape\n",
    "clusters = np.zeros(n)\n",
    "distances = np.zeros((n,k))\n",
    "\n",
    "error = np.linalg.norm(centers_new - centers_old)\n",
    "\n",
    "# When, after an update, the estimate of that center stays the same, exit loop\n",
    "while error != 0:\n",
    "    # Measure the distance to every center\n",
    "    for i in range(k):\n",
    "        distances[:,i] = np.linalg.norm(data - centers[i], axis=1)\n",
    "    # Assign all training data to closest center\n",
    "    clusters = np.argmin(distances, axis = 1)\n",
    "    \n",
    "    centers_old = deepcopy(centers_new)\n",
    "    # Calculate mean for every cluster and update the center\n",
    "    for i in range(k):\n",
    "        centers_new[i] = np.mean(data[clusters == i], axis=0)\n",
    "        print(centers_new)  \n",
    "        \n",
    "    error = np.linalg.norm(centers_new - centers_old)\n",
    "print('\\nFinal Centroids: \\n',centers_new)    \n",
    "\n",
    "# Plot the data and the centers generated as random\n",
    "plt.scatter(data[:,0], data[:,1], c='r', s=70)\n",
    "plt.scatter(centers[:,0], centers[:,1], marker='*', c='b', s=150)"
   ]
  },
  {
   "cell_type": "code",
   "execution_count": 3,
   "id": "reverse-jungle",
   "metadata": {},
   "outputs": [
    {
     "name": "stdout",
     "output_type": "stream",
     "text": [
      "Final clusters:  [1, 0, 1, 0, 0, 1]\n",
      "Cluster  0 (2, 4, 5)\n",
      "Cluster  1 (1, 3, 6)\n"
     ]
    }
   ],
   "source": [
    "import pandas as pd\n",
    "\n",
    "def calc_distance(X1, X2):\n",
    "    return(sum((X1 - X2)**2))**0.5\n",
    "\n",
    "def findClosestCentroids(ic, X):\n",
    "    assigned_centroid = []\n",
    "    for i in X:\n",
    "        distance=[]\n",
    "        for j in ic:\n",
    "            distance.append(calc_distance(i, j))\n",
    "        assigned_centroid.append(np.argmin(distance))\n",
    "    return assigned_centroid\n",
    "\n",
    "get_centroids = findClosestCentroids(centers_new, data)\n",
    "print('Final clusters: ',get_centroids)\n",
    "\n",
    "samples = np.array(list(range(len(get_centroids)))) + 1\n",
    "classes = np.array(get_centroids)\n",
    "data = np.transpose(np.vstack((samples, classes)))\n",
    "\n",
    "df = pd.DataFrame(data=list(data), columns=['Samples', 'Classes'])\n",
    "dfs = df.to_string(index=False)\n",
    "\n",
    "result = []\n",
    "for name, group in df.groupby(['Classes']):\n",
    "    result.append([g['Samples'].values.tolist() for _, g in group.groupby(['Classes'])])\n",
    "\n",
    "for i, e in enumerate(result):\n",
    "    print('Cluster ',i+1,tuple(*e))"
   ]
  },
  {
   "cell_type": "code",
   "execution_count": null,
   "id": "close-lebanon",
   "metadata": {},
   "outputs": [],
   "source": []
  }
 ],
 "metadata": {
  "kernelspec": {
   "display_name": "Python 3",
   "language": "python",
   "name": "python3"
  },
  "language_info": {
   "codemirror_mode": {
    "name": "ipython",
    "version": 3
   },
   "file_extension": ".py",
   "mimetype": "text/x-python",
   "name": "python",
   "nbconvert_exporter": "python",
   "pygments_lexer": "ipython3",
   "version": "3.6.12"
  }
 },
 "nbformat": 4,
 "nbformat_minor": 5
}
