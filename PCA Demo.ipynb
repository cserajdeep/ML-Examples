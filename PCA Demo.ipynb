{
 "cells": [
  {
   "cell_type": "code",
   "execution_count": 1,
   "id": "latter-triangle",
   "metadata": {},
   "outputs": [
    {
     "name": "stdout",
     "output_type": "stream",
     "text": [
      "\n",
      "The given dataset: \n",
      " [[12  5]\n",
      " [ 4  9]\n",
      " [ 8 16]\n",
      " [17  7]]\n",
      "\n",
      "The Covariance Matrx: \n",
      " [[ 30.91666667 -12.08333333]\n",
      " [-12.08333333  22.91666667]]\n",
      "\n",
      "The Eigen Values are: \n",
      " [39.64486153 14.1884718 ]\n",
      "\n",
      "The Eigen Vector are: \n",
      " [[ 0.81063646  0.58554977]\n",
      " [-0.58554977  0.81063646]]\n",
      "\n",
      "The Projected Dataset: \n",
      "[12.65538636  8.51249373 15.85388793 17.8796682 ]\n"
     ]
    }
   ],
   "source": [
    "# Solution PCA\n",
    "import numpy as np\n",
    "\n",
    "F1 = [12, 4, 8, 17]\n",
    "F2 = [5, 9, 16, 7]\n",
    "\n",
    "X = np.array([F1, F2])\n",
    "print(\"\\nThe given dataset: \\n\", np.transpose(X))\n",
    "\n",
    "CovX = np.cov(X)\n",
    "print(\"\\nThe Covariance Matrx: \\n\", CovX)\n",
    "\n",
    "EigValue = np.linalg.eig(CovX)[0]\n",
    "EigVector = np.linalg.eig(CovX)[1]\n",
    "print(\"\\nThe Eigen Values are: \\n\" , EigValue)\n",
    "print(\"\\nThe Eigen Vector are: \\n\" , EigVector)\n",
    "\n",
    "\n",
    "print(\"\\nThe Projected Dataset: \" )\n",
    "redData = np.matmul(np.transpose(X), EigVector[0])\n",
    "print(redData)"
   ]
  },
  {
   "cell_type": "code",
   "execution_count": null,
   "id": "thermal-commonwealth",
   "metadata": {},
   "outputs": [],
   "source": []
  }
 ],
 "metadata": {
  "kernelspec": {
   "display_name": "Python 3",
   "language": "python",
   "name": "python3"
  },
  "language_info": {
   "codemirror_mode": {
    "name": "ipython",
    "version": 3
   },
   "file_extension": ".py",
   "mimetype": "text/x-python",
   "name": "python",
   "nbconvert_exporter": "python",
   "pygments_lexer": "ipython3",
   "version": "3.6.12"
  }
 },
 "nbformat": 4,
 "nbformat_minor": 5
}
