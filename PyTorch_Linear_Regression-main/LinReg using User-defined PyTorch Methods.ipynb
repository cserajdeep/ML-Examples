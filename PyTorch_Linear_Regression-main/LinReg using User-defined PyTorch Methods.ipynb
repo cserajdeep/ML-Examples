{
 "cells": [
  {
   "cell_type": "code",
   "execution_count": 1,
   "id": "compliant-reservation",
   "metadata": {},
   "outputs": [],
   "source": [
    "import torch\n",
    "import numpy as np"
   ]
  },
  {
   "cell_type": "code",
   "execution_count": 2,
   "id": "parallel-laugh",
   "metadata": {},
   "outputs": [],
   "source": [
    "# Input (x, y, z)\n",
    "inputs = np.array([[75, 63, 48], \n",
    "                   [91, 88, 66], \n",
    "                   [84, 137, 57], \n",
    "                   [108, 41, 36], \n",
    "                   [68, 98, 72]], dtype='float32')"
   ]
  },
  {
   "cell_type": "code",
   "execution_count": 3,
   "id": "collectible-round",
   "metadata": {},
   "outputs": [],
   "source": [
    "# Targets (a, b)\n",
    "targets = np.array([[54, 71], \n",
    "                    [84, 111], \n",
    "                    [122, 143], \n",
    "                    [20, 40], \n",
    "                    [101, 117]], dtype='float32')"
   ]
  },
  {
   "cell_type": "code",
   "execution_count": 4,
   "id": "southwest-ordering",
   "metadata": {},
   "outputs": [
    {
     "name": "stdout",
     "output_type": "stream",
     "text": [
      "tensor([[ 75.,  63.,  48.],\n",
      "        [ 91.,  88.,  66.],\n",
      "        [ 84., 137.,  57.],\n",
      "        [108.,  41.,  36.],\n",
      "        [ 68.,  98.,  72.]])\n",
      "tensor([[ 54.,  71.],\n",
      "        [ 84., 111.],\n",
      "        [122., 143.],\n",
      "        [ 20.,  40.],\n",
      "        [101., 117.]])\n"
     ]
    }
   ],
   "source": [
    "# Convert inputs and targets to tensors\n",
    "inputs = torch.from_numpy(inputs)\n",
    "targets = torch.from_numpy(targets)\n",
    "print(inputs)\n",
    "print(targets)"
   ]
  },
  {
   "cell_type": "code",
   "execution_count": 5,
   "id": "abandoned-pontiac",
   "metadata": {},
   "outputs": [
    {
     "name": "stdout",
     "output_type": "stream",
     "text": [
      "tensor([[ 0.1463,  0.1394,  0.1724],\n",
      "        [-0.4648, -2.1807,  0.0460]], requires_grad=True)\n",
      "tensor([0.3225, 1.2896], requires_grad=True)\n"
     ]
    }
   ],
   "source": [
    "# Weights and biases\n",
    "w = torch.randn(2, 3, requires_grad=True)\n",
    "b = torch.randn(2, requires_grad=True)\n",
    "print(w)\n",
    "print(b)"
   ]
  },
  {
   "cell_type": "code",
   "execution_count": 6,
   "id": "automotive-notebook",
   "metadata": {},
   "outputs": [],
   "source": [
    "def model(x):\n",
    "    return x @ w.t() + b"
   ]
  },
  {
   "cell_type": "code",
   "execution_count": 7,
   "id": "tested-small",
   "metadata": {},
   "outputs": [],
   "source": [
    "# MSE loss\n",
    "def mse(t1, t2):\n",
    "    diff = t1 - t2\n",
    "    return torch.sum(diff * diff) / diff.numel()"
   ]
  },
  {
   "cell_type": "code",
   "execution_count": 8,
   "id": "lasting-vietnamese",
   "metadata": {},
   "outputs": [],
   "source": [
    "# Train for 200 epochs\n",
    "for i in range(200):\n",
    "    preds = model(inputs)\n",
    "    loss = mse(preds, targets)\n",
    "    loss.backward()\n",
    "    with torch.no_grad():\n",
    "        w -= w.grad * 1e-5\n",
    "        b -= b.grad * 1e-5\n",
    "        w.grad.zero_()\n",
    "        b.grad.zero_()"
   ]
  },
  {
   "cell_type": "code",
   "execution_count": 9,
   "id": "facial-distance",
   "metadata": {},
   "outputs": [
    {
     "name": "stdout",
     "output_type": "stream",
     "text": [
      "tensor(85.9070, grad_fn=<DivBackward0>)\n"
     ]
    }
   ],
   "source": [
    "# Calculate loss\n",
    "preds = model(inputs)\n",
    "loss = mse(preds, targets)\n",
    "print(loss)"
   ]
  },
  {
   "cell_type": "code",
   "execution_count": 10,
   "id": "satisfied-greeting",
   "metadata": {},
   "outputs": [
    {
     "data": {
      "text/plain": [
       "tensor([[ 57.4216,  79.7738],\n",
       "        [ 82.0295, 110.1118],\n",
       "        [119.1781, 123.7114],\n",
       "        [ 29.2001,  56.0922],\n",
       "        [ 96.4517, 121.6273]], grad_fn=<AddBackward0>)"
      ]
     },
     "execution_count": 10,
     "metadata": {},
     "output_type": "execute_result"
    }
   ],
   "source": [
    "# Predictions\n",
    "preds"
   ]
  },
  {
   "cell_type": "code",
   "execution_count": 11,
   "id": "premium-mouse",
   "metadata": {},
   "outputs": [
    {
     "data": {
      "text/plain": [
       "tensor([[ 54.,  71.],\n",
       "        [ 84., 111.],\n",
       "        [122., 143.],\n",
       "        [ 20.,  40.],\n",
       "        [101., 117.]])"
      ]
     },
     "execution_count": 11,
     "metadata": {},
     "output_type": "execute_result"
    }
   ],
   "source": [
    "# Targets\n",
    "targets"
   ]
  },
  {
   "cell_type": "code",
   "execution_count": null,
   "id": "martial-religious",
   "metadata": {},
   "outputs": [],
   "source": []
  }
 ],
 "metadata": {
  "kernelspec": {
   "display_name": "Python 3",
   "language": "python",
   "name": "python3"
  },
  "language_info": {
   "codemirror_mode": {
    "name": "ipython",
    "version": 3
   },
   "file_extension": ".py",
   "mimetype": "text/x-python",
   "name": "python",
   "nbconvert_exporter": "python",
   "pygments_lexer": "ipython3",
   "version": "3.6.12"
  }
 },
 "nbformat": 4,
 "nbformat_minor": 5
}
