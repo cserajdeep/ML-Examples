{
  "nbformat": 4,
  "nbformat_minor": 0,
  "metadata": {
    "colab": {
      "provenance": []
    },
    "kernelspec": {
      "name": "python3",
      "display_name": "Python 3"
    },
    "language_info": {
      "name": "python"
    }
  },
  "cells": [
    {
      "cell_type": "code",
      "execution_count": null,
      "metadata": {
        "id": "EAB13LxJ6xpN"
      },
      "outputs": [],
      "source": [
        "F1 = [12, 4, 8, 17]\n",
        "F2 = [5, 9, 16, 7]"
      ]
    },
    {
      "cell_type": "code",
      "source": [
        "import numpy as np\n",
        "\n",
        "# Step 1: Define the dataset\n",
        "X = np.array([\n",
        "    [4, 11],\n",
        "    [8, 4],\n",
        "    [13, 5],\n",
        "    [7, 14]\n",
        "])\n",
        "print(\"Step 1: The given dataset:\")\n",
        "print(X)\n",
        "\n",
        "# Step 2: Center the data\n",
        "mean = np.mean(X, axis=0)\n",
        "X_centered = X - mean\n",
        "print(\"\\nStep 2: Centered data:\")\n",
        "print(X_centered)\n",
        "\n",
        "# Step 3: Compute the covariance matrix\n",
        "C = np.cov(X_centered, rowvar=False)\n",
        "print(\"\\nStep 3: Covariance matrix:\")\n",
        "print(C)\n",
        "\n",
        "# Step 4: Compute eigenvalues and eigenvectors\n",
        "eigenvalues, eigenvectors = np.linalg.eig(C)\n",
        "print(\"\\nStep 4: Eigenvalues:\")\n",
        "print(eigenvalues)\n",
        "print(\"\\nEigenvectors:\")\n",
        "print(eigenvectors)\n",
        "\n",
        "# Step 5: Sort eigenvalues and eigenvectors\n",
        "sorted_indices = np.argsort(eigenvalues)[::-1]  # Sort in descending order\n",
        "sorted_eigenvalues = eigenvalues[sorted_indices]\n",
        "sorted_eigenvectors = eigenvectors[:, sorted_indices]\n",
        "print(\"\\nStep 5: Sorted eigenvalues:\")\n",
        "print(sorted_eigenvalues)\n",
        "print(\"\\nSorted eigenvectors:\")\n",
        "print(sorted_eigenvectors)\n",
        "\n",
        "# Step 6: Project the data onto the principal components\n",
        "# Select the eigenvector corresponding to the largest eigenvalue\n",
        "principal_component = sorted_eigenvectors[:, 0]\n",
        "X_pca = np.dot(X_centered, principal_component)\n",
        "print(\"\\nStep 6: Projected data (PCA):\")\n",
        "print(X_pca)\n",
        "\n",
        "# Step 7: Final transformed data\n",
        "print(\"\\nStep 7: Final transformed data in PCA space:\")\n",
        "print(X_pca)"
      ],
      "metadata": {
        "colab": {
          "base_uri": "https://localhost:8080/"
        },
        "id": "Wra3uAE68k0k",
        "outputId": "c3662c29-63d1-4c18-e9d6-b795c65e1258"
      },
      "execution_count": 6,
      "outputs": [
        {
          "output_type": "stream",
          "name": "stdout",
          "text": [
            "Step 1: The given dataset:\n",
            "[[ 4 11]\n",
            " [ 8  4]\n",
            " [13  5]\n",
            " [ 7 14]]\n",
            "\n",
            "Step 2: Centered data:\n",
            "[[-4.   2.5]\n",
            " [ 0.  -4.5]\n",
            " [ 5.  -3.5]\n",
            " [-1.   5.5]]\n",
            "\n",
            "Step 3: Covariance matrix:\n",
            "[[ 14. -11.]\n",
            " [-11.  23.]]\n",
            "\n",
            "Step 4: Eigenvalues:\n",
            "[ 6.61513568 30.38486432]\n",
            "\n",
            "Eigenvectors:\n",
            "[[-0.83025082  0.55738997]\n",
            " [-0.55738997 -0.83025082]]\n",
            "\n",
            "Step 5: Sorted eigenvalues:\n",
            "[30.38486432  6.61513568]\n",
            "\n",
            "Sorted eigenvectors:\n",
            "[[ 0.55738997 -0.83025082]\n",
            " [-0.83025082 -0.55738997]]\n",
            "\n",
            "Step 6: Projected data (PCA):\n",
            "[-4.30518692  3.73612869  5.69282771 -5.12376947]\n",
            "\n",
            "Step 7: Final transformed data in PCA space:\n",
            "[-4.30518692  3.73612869  5.69282771 -5.12376947]\n"
          ]
        }
      ]
    }
  ]
}