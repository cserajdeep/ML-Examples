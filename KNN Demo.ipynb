{
 "cells": [
  {
   "cell_type": "code",
   "execution_count": 1,
   "id": "basic-impact",
   "metadata": {},
   "outputs": [
    {
     "name": "stdout",
     "output_type": "stream",
     "text": [
      "Neighbors:  [[10, 5, 0], [6.5, 11, 1], [7, 15, 1]]\n",
      "Estimated Class  1\n"
     ]
    }
   ],
   "source": [
    "# Solution KNN\n",
    "from math import sqrt\n",
    "\n",
    "# calculate the Euclidean distance between two vectors\n",
    "def euclidean_distance(row1, row2):\n",
    "\tdistance = 0.0\n",
    "\tfor i in range(len(row1)-1):\n",
    "\t\tdistance += (row1[i] - row2[i])**2\n",
    "\treturn sqrt(distance)\n",
    "\n",
    "# Locate the most similar neighbors\n",
    "def get_neighbors(train, test_row, num_neighbors):\n",
    "\tdistances = list()\n",
    "\tfor train_row in train:\n",
    "\t\tdist = euclidean_distance(test_row, train_row)\n",
    "\t\tdistances.append((train_row, dist))\n",
    "\tdistances.sort(key=lambda tup: tup[1])\n",
    "\tneighbors = list()\n",
    "\tfor i in range(num_neighbors):\n",
    "\t\tneighbors.append(distances[i][0])\n",
    "\treturn neighbors\n",
    "\n",
    "# Make a classification prediction with neighbors\n",
    "def predict_classification(train, test_row, num_neighbors):\n",
    "\tneighbors = get_neighbors(train, test_row, num_neighbors)\n",
    "\tprint('Neighbors: ',neighbors)\n",
    "\toutput_values = [row[-1] for row in neighbors]\n",
    "\tprediction = max(set(output_values), key=output_values.count)\n",
    "\treturn prediction\n",
    "\n",
    "###################################################################\n",
    "'''X    Y    Label\n",
    "---------------------\n",
    "10      05     0\n",
    "6.5     11     1\n",
    "7       15     1\n",
    "12      05     0\n",
    "8       10     1\n",
    "15      08     0'''\n",
    "\n",
    "# Test distance function\n",
    "dataset = [[10,5,0],\n",
    "\t[6.5,11,1],\n",
    "\t[7,15,1],\n",
    "\t[12,5,0],\n",
    "\t[8,10,1],\n",
    "\t[15,8,0]]\n",
    "\n",
    "test=[[10,5]]\n",
    "\n",
    "prediction = predict_classification(dataset, test, 3)\n",
    "#print('Expected %d, Got %d.' % (dataset[0][-1], prediction))   # with in samples\n",
    "print('Estimated Class ',prediction)                            # new test case"
   ]
  },
  {
   "cell_type": "code",
   "execution_count": null,
   "id": "clinical-seattle",
   "metadata": {},
   "outputs": [],
   "source": []
  }
 ],
 "metadata": {
  "kernelspec": {
   "display_name": "Python 3",
   "language": "python",
   "name": "python3"
  },
  "language_info": {
   "codemirror_mode": {
    "name": "ipython",
    "version": 3
   },
   "file_extension": ".py",
   "mimetype": "text/x-python",
   "name": "python",
   "nbconvert_exporter": "python",
   "pygments_lexer": "ipython3",
   "version": "3.6.12"
  }
 },
 "nbformat": 4,
 "nbformat_minor": 5
}
